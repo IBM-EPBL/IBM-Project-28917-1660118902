{
  "nbformat": 4,
  "nbformat_minor": 0,
  "metadata": {
    "colab": {
      "provenance": []
    },
    "kernelspec": {
      "name": "python3",
      "display_name": "Python 3"
    },
    "language_info": {
      "name": "python"
    }
  },
  "cells": [
    {
      "cell_type": "markdown",
      "source": [],
      "metadata": {
        "id": "55O99usAUrXK"
      }
    },
    {
      "cell_type": "code",
      "execution_count": 1,
      "metadata": {
        "colab": {
          "base_uri": "https://localhost:8080/"
        },
        "id": "4Nm-aIN1UpYI",
        "outputId": "5a7318f8-f13d-4f0f-f535-ca4629d7fd42"
      },
      "outputs": [
        {
          "output_type": "stream",
          "name": "stdout",
          "text": [
            "2401\n"
          ]
        }
      ],
      "source": [
        "7**4\n",
        "print(7**4)"
      ]
    },
    {
      "cell_type": "markdown",
      "source": [
        "# Split this string:"
      ],
      "metadata": {
        "id": "QJ04s4H2VAe0"
      }
    },
    {
      "cell_type": "code",
      "source": [
        "s = \"Hi there Sam!\""
      ],
      "metadata": {
        "id": "AGVNxqkFVDtP"
      },
      "execution_count": 2,
      "outputs": []
    },
    {
      "cell_type": "markdown",
      "source": [
        "into a list."
      ],
      "metadata": {
        "id": "GndugHRCVPtQ"
      }
    },
    {
      "cell_type": "code",
      "source": [
        "s=\"Hi there sam!\"\n",
        "s.split()"
      ],
      "metadata": {
        "colab": {
          "base_uri": "https://localhost:8080/"
        },
        "id": "xZQDz165VS8c",
        "outputId": "48883b3a-7156-4f2e-a957-674434904850"
      },
      "execution_count": 3,
      "outputs": [
        {
          "data": {
            "text/plain": [
              "['Hi', 'there', 'sam!']"
            ]
          },
          "execution_count": 3,
          "metadata": {},
          "output_type": "execute_result"
        }
      ]
    },
    {
      "cell_type": "markdown",
      "source": [
        "# Given the variables:"
      ],
      "metadata": {
        "id": "k2783rYsVptZ"
      }
    },
    {
      "cell_type": "code",
      "source": [
        "planet = \"Earth\"\n",
        "diameter = 12742"
      ],
      "metadata": {
        "id": "sPfrDo0yVvI3"
      },
      "execution_count": 4,
      "outputs": []
    },
    {
      "cell_type": "markdown",
      "source": [
        "# Use .format() to print the following string:"
      ],
      "metadata": {
        "id": "H8P0xxKmWD8K"
      }
    },
    {
      "cell_type": "markdown",
      "source": [
        "The diameter of Earth is 12742 kilometers."
      ],
      "metadata": {
        "id": "7u2fXARbWgJz"
      }
    },
    {
      "cell_type": "code",
      "source": [
        "planet=\"Earth\"\n",
        "diameter=\"12742\"\n",
        "print(\"The diameter of{} is {} kilometers.\".format(planet,diameter))"
      ],
      "metadata": {
        "colab": {
          "base_uri": "https://localhost:8080/"
        },
        "id": "vKJDZYgPWL2s",
        "outputId": "5502c134-e143-4593-ea8c-216c221c5efd"
      },
      "execution_count": 6,
      "outputs": [
        {
          "output_type": "stream",
          "name": "stdout",
          "text": [
            "The diameter ofEarth is 12742 kilometers.\n"
          ]
        }
      ]
    },
    {
      "cell_type": "markdown",
      "source": [],
      "metadata": {
        "id": "f6A30sUcWpQP"
      }
    },
    {
      "cell_type": "markdown",
      "source": [
        "Given this nested list, use indexing to grab the word \"hello\"\n",
        "\n",
        "Given this nest dictionary grab the word \"hello\". Be prepared, this will be annoying/tricky"
      ],
      "metadata": {
        "id": "bfZqNPJZWz6W"
      }
    },
    {
      "cell_type": "code",
      "source": [
        "I = [1,2,[3,4],[5,[100,200,['hello']],23,11],1,7]\n",
        "\n",
        "d= {'k1':[1,2,3,{'tricky':['oh','man','inception',{'target':[1,2,3,'hello']}]}]}\n",
        "I[3][1][2][0]\n",
        "d['k1'][3]['tricky'][3]['target'][3]"
      ],
      "metadata": {
        "id": "74Ur0ulgW3B8",
        "outputId": "616f4b9a-0f64-47ae-d25b-61bf2977c427",
        "colab": {
          "base_uri": "https://localhost:8080/",
          "height": 36
        }
      },
      "execution_count": 7,
      "outputs": [
        {
          "output_type": "execute_result",
          "data": {
            "text/plain": [
              "'hello'"
            ],
            "application/vnd.google.colaboratory.intrinsic+json": {
              "type": "string"
            }
          },
          "metadata": {},
          "execution_count": 7
        }
      ]
    },
    {
      "cell_type": "markdown",
      "source": [
        "# What is the main difference between a tuple and a list?"
      ],
      "metadata": {
        "id": "xjgzZ3hiW-EB"
      }
    },
    {
      "cell_type": "code",
      "source": [
        "#tuple-im mutable\n",
        "#list -mutable"
      ],
      "metadata": {
        "id": "tsOXp6-qXEQA"
      },
      "execution_count": null,
      "outputs": []
    },
    {
      "cell_type": "markdown",
      "source": [],
      "metadata": {
        "id": "47gogrJjXI9n"
      }
    },
    {
      "cell_type": "markdown",
      "source": [
        "Create a function that grabs the email website domain from a string in the form:\n",
        "\n",
        "user@domain.com\n",
        "\n",
        "So for example, passing \"user@domain.com\" would return: domain.com"
      ],
      "metadata": {
        "id": "bJtCYxtRXVOL"
      }
    },
    {
      "cell_type": "code",
      "source": [
        "def domainGet(email):\n",
        "    return email.split('@')[-1]\n",
        "domainGet('user@domain.com')"
      ],
      "metadata": {
        "id": "4fBv3AfTXawl",
        "outputId": "572b7b28-93fd-4938-efdd-319c720a0134",
        "colab": {
          "base_uri": "https://localhost:8080/",
          "height": 36
        }
      },
      "execution_count": 8,
      "outputs": [
        {
          "output_type": "execute_result",
          "data": {
            "text/plain": [
              "'domain.com'"
            ],
            "application/vnd.google.colaboratory.intrinsic+json": {
              "type": "string"
            }
          },
          "metadata": {},
          "execution_count": 8
        }
      ]
    },
    {
      "cell_type": "markdown",
      "source": [
        "# Create a basic function that returns True if the word 'dog' is contained in the input string. Don't worry about edge cases like a punctuation being attached to the word dog, but do account for capitalization."
      ],
      "metadata": {
        "id": "0GA_F1gzXiVz"
      }
    },
    {
      "cell_type": "code",
      "source": [
        "def findDog(st):\n",
        "    return 'dog' in st.lower().split()\n",
        "findDog('Isthere a dog here')"
      ],
      "metadata": {
        "id": "SURe69UgYGG0"
      },
      "execution_count": null,
      "outputs": []
    },
    {
      "cell_type": "markdown",
      "source": [
        "Create a function that counts the number of times the word \"dog\" occurs in a string. Again ignore edge cases."
      ],
      "metadata": {
        "id": "5la0P3paYHUh"
      }
    },
    {
      "cell_type": "code",
      "source": [
        "def countDog(st):\n",
        "    count=0\n",
        "    for word in st.lower().split():\n",
        "        if word=='dog':\n",
        "            count+= 1\n",
        "    return count\n",
        "countDog('This dogs runs faster than the other dog dude!')"
      ],
      "metadata": {
        "id": "0jnnu0kHYKYX",
        "outputId": "1005dc46-194c-4780-9aef-fe10dbf90c08",
        "colab": {
          "base_uri": "https://localhost:8080/"
        }
      },
      "execution_count": 9,
      "outputs": [
        {
          "output_type": "execute_result",
          "data": {
            "text/plain": [
              "1"
            ]
          },
          "metadata": {},
          "execution_count": 9
        }
      ]
    },
    {
      "cell_type": "markdown",
      "source": [
        "# Problem\n",
        "You are driving a little too fast, and a police officer stops you. Write a function to return one of 3 possible results: \"No ticket\", \"Small ticket\", or \"Big Ticket\". If your speed is 60 or less, the result is \"No Ticket\". If speed is between 61 and 80 inclusive, the result is \"Small Ticket\". If speed is 81 or more, the result is \"Big Ticket\". Unless it is your birthday (encoded as a boolean value in the parameters of the function) -- on your birthday, your speed can be 5 higher in all cases."
      ],
      "metadata": {
        "id": "u87KfN2-YTo7"
      }
    },
    {
      "cell_type": "code",
      "source": [
        "def caught_speeding(speed, is_birthday):\n",
        "    \n",
        "    if is_birthday:\n",
        "        speeding = speed - 5\n",
        "    else:\n",
        "        speeding = speed\n",
        "    \n",
        "    if speeding > 80:\n",
        "        return 'Big Ticket'\n",
        "    elif speeding > 60:\n",
        "        return 'Small Ticket'\n",
        "    else:\n",
        "        return 'No Ticket'\n",
        "caught_speeding(81,False)"
      ],
      "metadata": {
        "id": "rWL5AvX7YX1a",
        "outputId": "abf3e3d4-457c-4a0f-f7e2-a8d445881a0d",
        "colab": {
          "base_uri": "https://localhost:8080/",
          "height": 36
        }
      },
      "execution_count": 10,
      "outputs": [
        {
          "output_type": "execute_result",
          "data": {
            "text/plain": [
              "'Big Ticket'"
            ],
            "application/vnd.google.colaboratory.intrinsic+json": {
              "type": "string"
            }
          },
          "metadata": {},
          "execution_count": 10
        }
      ]
    },
    {
      "cell_type": "code",
      "source": [
        "caught_speeding(81,True)"
      ],
      "metadata": {
        "id": "n3RU3SERYmw0",
        "outputId": "914389e5-9ae0-4941-e13f-5c5d3ffc3249",
        "colab": {
          "base_uri": "https://localhost:8080/",
          "height": 36
        }
      },
      "execution_count": 11,
      "outputs": [
        {
          "output_type": "execute_result",
          "data": {
            "text/plain": [
              "'Small Ticket'"
            ],
            "application/vnd.google.colaboratory.intrinsic+json": {
              "type": "string"
            }
          },
          "metadata": {},
          "execution_count": 11
        }
      ]
    },
    {
      "cell_type": "markdown",
      "source": [
        "Create an employee list with basic salary values(at least 5 values for 5 employees) and using a for loop retreive each employee salary and calculate total salary expenditure."
      ],
      "metadata": {
        "id": "Op_RBDZNYqTj"
      }
    },
    {
      "cell_type": "code",
      "source": [
        "employee_salary = [2000,3000,4000,5000,6000]\n",
        "total_salary = 0\n",
        "for salary  in employee_salary:\n",
        "  total_salary+=salary\n",
        "  print(salary)"
      ],
      "metadata": {
        "id": "0R3Xlg3fYtQF",
        "outputId": "92b739ce-f12e-455d-c89b-5eb6d665b426",
        "colab": {
          "base_uri": "https://localhost:8080/"
        }
      },
      "execution_count": 12,
      "outputs": [
        {
          "output_type": "stream",
          "name": "stdout",
          "text": [
            "2000\n",
            "3000\n",
            "4000\n",
            "5000\n",
            "6000\n"
          ]
        }
      ]
    },
    {
      "cell_type": "code",
      "source": [
        "print(total_salary)"
      ],
      "metadata": {
        "id": "SwogNIdYYy3R",
        "outputId": "9883cb68-1415-4fd6-d95f-7e6eba1cfe47",
        "colab": {
          "base_uri": "https://localhost:8080/"
        }
      },
      "execution_count": 13,
      "outputs": [
        {
          "output_type": "stream",
          "name": "stdout",
          "text": [
            "20000\n"
          ]
        }
      ]
    },
    {
      "cell_type": "markdown",
      "source": [
        "Create two dictionaries in Python:\n",
        "\n",
        "First one to contain fields as Empid, Empname, Basicpay\n",
        "\n",
        "Second dictionary to contain fields as DeptName, DeptId.\n",
        "\n",
        "Combine both dictionaries."
      ],
      "metadata": {
        "id": "ROhMyQpfY7Cl"
      }
    },
    {
      "cell_type": "code",
      "source": [
        "dict1 = {'Empid':1, 'Empname':'kalai','Basicpay':15000}\n",
        "dict2 = {'DeptName':'computer science','DepId':104}\n",
        "dict3 = {**dict1,**dict2}\n",
        "print(dict3)"
      ],
      "metadata": {
        "id": "-QgSF0HhY79Y",
        "outputId": "ea5faf08-3764-41b8-af21-ca5d1e4d121c",
        "colab": {
          "base_uri": "https://localhost:8080/"
        }
      },
      "execution_count": 14,
      "outputs": [
        {
          "output_type": "stream",
          "name": "stdout",
          "text": [
            "{'Empid': 1, 'Empname': 'kalai', 'Basicpay': 15000, 'DeptName': 'computer science', 'DepId': 104}\n"
          ]
        }
      ]
    }
  ]
}